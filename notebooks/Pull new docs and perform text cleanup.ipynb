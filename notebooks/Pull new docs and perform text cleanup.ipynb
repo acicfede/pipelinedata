{
 "cells": [
  {
   "cell_type": "code",
   "execution_count": 1,
   "id": "396f2b68-9fb7-49bb-8d36-6aa761de9c43",
   "metadata": {
    "tags": []
   },
   "outputs": [],
   "source": [
    "!pip install -q PyPDF"
   ]
  },
  {
   "cell_type": "code",
   "execution_count": 2,
   "id": "3df912d1-df54-430b-9ab5-425e0cba3f8a",
   "metadata": {},
   "outputs": [],
   "source": [
    "from pypdf import PdfReader\n",
    "import os\n",
    "from urllib.request import urlretrieve\n",
    "\n",
    "\n",
    "def extract_text(local_filename):\n",
    "    text = \"\"\n",
    "    with open(local_filename, 'rb') as file:\n",
    "        reader = PdfReader(file)\n",
    "        num_pages = len(reader.pages)\n",
    "        for page_num in range(num_pages):\n",
    "            page = reader.pages[page_num]\n",
    "            page_text = page.extract_text()\n",
    "            if any(header in page_text[:30] for header in Headers_to_skip):\n",
    "                continue\n",
    "            text += page_text\n",
    "    return text\n",
    "\n",
    "\n",
    "def download_pdf(file_url, local_filename):\n",
    "    dest_folder = \"/data\"\n",
    "    dest_filename = os.path.join(dest_folder, local_filename)\n",
    "    urlretrieve(file_url, dest_filename)\n",
    "    print(f\"PDF file downloaded successfully as '{dest_filename}'.\")"
   ]
  },
  {
   "cell_type": "code",
   "execution_count": 4,
   "id": "5402ac95-560e-45a3-9b37-a5edb443d24c",
   "metadata": {
    "tags": []
   },
   "outputs": [],
   "source": [
    "Headers_to_skip = [\"Contents\", \"Table of Contents\", \"References\", \"Copyright\"]\n",
    "files_to_embed = []\n",
    "file_directory = \"/data\"\n",
    "url = \"http://http-port-fileserver.apps.privateailab.acic.accenture/pdf/demo/demo/\"\n",
    "file_path = '/data/modified_pdf_list.txt'"
   ]
  },
  {
   "cell_type": "code",
   "execution_count": null,
   "id": "1eddeb9a-642f-4df2-a034-d92e2b42e447",
   "metadata": {
    "tags": []
   },
   "outputs": [],
   "source": [
    "with open(file_path, 'r') as file:\n",
    "    for line in file:\n",
    "        line = line.strip()\n",
    "        files_to_embed.append(line)\n",
    "\n",
    "for filename in files_to_embed:\n",
    "    file_url= url + filename\n",
    "    download_pdf(file_url, filename)\n",
    "    local_filename = os.path.join(file_directory, filename)\n",
    "    extracted_text = extract_text(local_filename)\n",
    "    txt_file_name = filename[:-4] + '.txt'\n",
    "    with open(os.path.join(file_directory, txt_file_name), 'w', encoding='utf-8') as txt_file:\n",
    "        txt_file.write(extracted_text)\n",
    "    print(\"Extracted cleanedup text from \"+file_url+\" and stored it in \"+txt_file_name)"
   ]
  },
  {
   "cell_type": "code",
   "execution_count": null,
   "id": "5e38a19a-ef0e-4b7a-8c41-9ca90ee9bad6",
   "metadata": {},
   "outputs": [],
   "source": []
  }
 ],
 "metadata": {
  "kernelspec": {
   "display_name": "Python 3.11",
   "language": "python",
   "name": "python3"
  },
  "language_info": {
   "codemirror_mode": {
    "name": "ipython",
    "version": 3
   },
   "file_extension": ".py",
   "mimetype": "text/x-python",
   "name": "python",
   "nbconvert_exporter": "python",
   "pygments_lexer": "ipython3",
   "version": "3.11.9"
  }
 },
 "nbformat": 4,
 "nbformat_minor": 5
}
