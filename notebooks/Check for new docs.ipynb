{
 "cells": [
  {
   "cell_type": "code",
   "execution_count": 2,
   "id": "f8f7f203-f86b-4e75-a505-899b0aeb0cf5",
   "metadata": {
    "tags": []
   },
   "outputs": [],
   "source": [
    "!pip install -q --upgrade pip\n",
    "!pip install -q requests bs4 "
   ]
  },
  {
   "cell_type": "code",
   "execution_count": 3,
   "id": "971f6ad8-a173-40b5-8e10-de0a3e71b279",
   "metadata": {
    "tags": []
   },
   "outputs": [],
   "source": [
    "import requests\n",
    "from bs4 import BeautifulSoup\n",
    "from datetime import datetime, timedelta\n",
    "\n",
    "\n",
    "def getLastModifiedTime(url):\n",
    "    response = requests.head(url)\n",
    "    if 'Last-Modified' in response.headers:\n",
    "        return response.headers['Last-Modified']\n",
    "    else:\n",
    "        return None\n",
    "\n",
    "\n",
    "def get_url_paths(url, ext='', params={}):\n",
    "    response = requests.get(url, params=params)\n",
    "    if response.ok:\n",
    "        response_text = response.text\n",
    "    else:\n",
    "        return response.raise_for_status()\n",
    "    soup = BeautifulSoup(response_text, 'html.parser')\n",
    "    parent = [url + node.get('href') for node in soup.find_all('a') if node.get('href').endswith(ext)]\n",
    "    return parent\n",
    "\n",
    "\n",
    "def is_within_hour(last_modified_time, hr):\n",
    "    # Convert Last-Modified time to datetime object\n",
    "    last_modified_datetime = datetime.strptime(last_modified_time, '%a, %d %b %Y %H:%M:%S %Z')\n",
    "\n",
    "    # Calculate the time difference\n",
    "    time_difference = datetime.utcnow() - last_modified_datetime\n",
    "\n",
    "    # Check if the file was modified within the last hour\n",
    "    return time_difference < timedelta(hours=hr)"
   ]
  },
  {
   "cell_type": "code",
   "execution_count": 8,
   "id": "94ed4fed-21e3-438c-8052-2f58f0c7a7d7",
   "metadata": {
    "tags": []
   },
   "outputs": [],
   "source": [
    "pdf_folder_path = \"infohub\"\n",
    "url = \"http://http-port-fileserver.apps.privateailab.acic.accenture/pdf/demo/demo/\"\n",
    "files_to_embed = []\n",
    "updated_file_lookup_hours = 1"
   ]
  },
  {
   "cell_type": "code",
   "execution_count": 9,
   "id": "d39f7513-d1cd-46d3-80cd-599137002804",
   "metadata": {
    "tags": []
   },
   "outputs": [],
   "source": [
    "result = get_url_paths(url, \"pdf\")\n",
    "modified_pdf_list = '/data/modified_pdf_list.txt'"
   ]
  },
  {
   "cell_type": "code",
   "execution_count": 10,
   "id": "25cd3498-f183-4795-866a-a4b40ef2d3c3",
   "metadata": {
    "tags": []
   },
   "outputs": [
    {
     "ename": "FileNotFoundError",
     "evalue": "[Errno 2] No such file or directory: '/data/modified_pdf_list.txt'",
     "output_type": "error",
     "traceback": [
      "\u001b[0;31m---------------------------------------------------------------------------\u001b[0m",
      "\u001b[0;31mFileNotFoundError\u001b[0m                         Traceback (most recent call last)",
      "Cell \u001b[0;32mIn[10], line 8\u001b[0m\n\u001b[1;32m      5\u001b[0m         files_to_embed\u001b[38;5;241m.\u001b[39mappend(filename)\n\u001b[1;32m      6\u001b[0m         \u001b[38;5;28mprint\u001b[39m(filename \u001b[38;5;241m+\u001b[39m \u001b[38;5;124m\"\u001b[39m\u001b[38;5;124m has been stored in\u001b[39m\u001b[38;5;124m\"\u001b[39m \u001b[38;5;241m+\u001b[39m modified_pdf_list)\n\u001b[0;32m----> 8\u001b[0m \u001b[38;5;28;01mwith\u001b[39;00m \u001b[38;5;28;43mopen\u001b[39;49m\u001b[43m(\u001b[49m\u001b[43mmodified_pdf_list\u001b[49m\u001b[43m,\u001b[49m\u001b[43m \u001b[49m\u001b[38;5;124;43m'\u001b[39;49m\u001b[38;5;124;43mw\u001b[39;49m\u001b[38;5;124;43m'\u001b[39;49m\u001b[43m)\u001b[49m \u001b[38;5;28;01mas\u001b[39;00m file:\n\u001b[1;32m      9\u001b[0m     \u001b[38;5;28;01mfor\u001b[39;00m item \u001b[38;5;129;01min\u001b[39;00m files_to_embed:\n\u001b[1;32m     10\u001b[0m         file\u001b[38;5;241m.\u001b[39mwrite(\u001b[38;5;124m\"\u001b[39m\u001b[38;5;132;01m%s\u001b[39;00m\u001b[38;5;130;01m\\n\u001b[39;00m\u001b[38;5;124m\"\u001b[39m \u001b[38;5;241m%\u001b[39m item)\n",
      "File \u001b[0;32m/opt/app-root/lib64/python3.9/site-packages/IPython/core/interactiveshell.py:310\u001b[0m, in \u001b[0;36m_modified_open\u001b[0;34m(file, *args, **kwargs)\u001b[0m\n\u001b[1;32m    303\u001b[0m \u001b[38;5;28;01mif\u001b[39;00m file \u001b[38;5;129;01min\u001b[39;00m {\u001b[38;5;241m0\u001b[39m, \u001b[38;5;241m1\u001b[39m, \u001b[38;5;241m2\u001b[39m}:\n\u001b[1;32m    304\u001b[0m     \u001b[38;5;28;01mraise\u001b[39;00m \u001b[38;5;167;01mValueError\u001b[39;00m(\n\u001b[1;32m    305\u001b[0m         \u001b[38;5;124mf\u001b[39m\u001b[38;5;124m\"\u001b[39m\u001b[38;5;124mIPython won\u001b[39m\u001b[38;5;124m'\u001b[39m\u001b[38;5;124mt let you open fd=\u001b[39m\u001b[38;5;132;01m{\u001b[39;00mfile\u001b[38;5;132;01m}\u001b[39;00m\u001b[38;5;124m by default \u001b[39m\u001b[38;5;124m\"\u001b[39m\n\u001b[1;32m    306\u001b[0m         \u001b[38;5;124m\"\u001b[39m\u001b[38;5;124mas it is likely to crash IPython. If you know what you are doing, \u001b[39m\u001b[38;5;124m\"\u001b[39m\n\u001b[1;32m    307\u001b[0m         \u001b[38;5;124m\"\u001b[39m\u001b[38;5;124myou can use builtins\u001b[39m\u001b[38;5;124m'\u001b[39m\u001b[38;5;124m open.\u001b[39m\u001b[38;5;124m\"\u001b[39m\n\u001b[1;32m    308\u001b[0m     )\n\u001b[0;32m--> 310\u001b[0m \u001b[38;5;28;01mreturn\u001b[39;00m \u001b[43mio_open\u001b[49m\u001b[43m(\u001b[49m\u001b[43mfile\u001b[49m\u001b[43m,\u001b[49m\u001b[43m \u001b[49m\u001b[38;5;241;43m*\u001b[39;49m\u001b[43margs\u001b[49m\u001b[43m,\u001b[49m\u001b[43m \u001b[49m\u001b[38;5;241;43m*\u001b[39;49m\u001b[38;5;241;43m*\u001b[39;49m\u001b[43mkwargs\u001b[49m\u001b[43m)\u001b[49m\n",
      "\u001b[0;31mFileNotFoundError\u001b[0m: [Errno 2] No such file or directory: '/data/modified_pdf_list.txt'"
     ]
    }
   ],
   "source": [
    "for pdf_url in result:\n",
    "    last_modified_time = getLastModifiedTime(pdf_url)\n",
    "    if last_modified_time is not None and is_within_hour(last_modified_time, updated_file_lookup_hours):\n",
    "        filename = pdf_url.split('/')[-1]\n",
    "        files_to_embed.append(filename)\n",
    "        print(filename + \" has been stored in\" + modified_pdf_list)\n",
    "\n",
    "with open(modified_pdf_list, 'w') as file:\n",
    "    for item in files_to_embed:\n",
    "        file.write(\"%s\\n\" % item)\n"
   ]
  }
 ],
 "metadata": {
  "kernelspec": {
   "display_name": "Python 3.11",
   "language": "python",
   "name": "python3"
  },
  "language_info": {
   "codemirror_mode": {
    "name": "ipython",
    "version": 3
   },
   "file_extension": ".py",
   "mimetype": "text/x-python",
   "name": "python",
   "nbconvert_exporter": "python",
   "pygments_lexer": "ipython3",
   "version": "3.11.9"
  }
 },
 "nbformat": 4,
 "nbformat_minor": 5
}
